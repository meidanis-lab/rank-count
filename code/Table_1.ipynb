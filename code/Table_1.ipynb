{
 "cells": [
  {
   "cell_type": "code",
   "execution_count": 2,
   "id": "7eb9699e-6e66-4e9b-84f4-b6c81baf2df2",
   "metadata": {},
   "outputs": [],
   "source": [
    "library(ggplot2)\n",
    "library(dplyr)\n",
    "library(tidyr)\n",
    "library(cowplot)"
   ]
  },
  {
   "cell_type": "code",
   "execution_count": 26,
   "id": "66af91c1-8976-42e4-b8f9-d1a61e0a2051",
   "metadata": {},
   "outputs": [
    {
     "data": {
      "text/html": [
       "<table class=\"dataframe\">\n",
       "<caption>A data.frame: 20 × 4</caption>\n",
       "<thead>\n",
       "\t<tr><th scope=col>Genome</th><th scope=col>d</th><th scope=col>Scenarios</th><th scope=col>Intermediates</th></tr>\n",
       "\t<tr><th scope=col>&lt;chr&gt;</th><th scope=col>&lt;int&gt;</th><th scope=col>&lt;chr&gt;</th><th scope=col>&lt;chr&gt;</th></tr>\n",
       "</thead>\n",
       "<tbody>\n",
       "\t<tr><td>Chimpanzee </td><td> 27</td><td>6.54 * 10^{11}       </td><td>2.46 * 10^{4}   </td></tr>\n",
       "\t<tr><td>Orangutan  </td><td> 53</td><td>6.03 * 10^{38}       </td><td>1.29 * 10^{10}  </td></tr>\n",
       "\t<tr><td>Rhesus     </td><td>150</td><td>1.21 * 10^{138}      </td><td>1.45 * 10^{28}  </td></tr>\n",
       "\t<tr><td>Marmoset   </td><td>204</td><td>3.99 * 10^{250}      </td><td>3.13 * 10^{43}  </td></tr>\n",
       "\t<tr><td>Horse      </td><td>225</td><td>1.63 * 10^{135}      </td><td>1.31 * 10^{51}  </td></tr>\n",
       "\t<tr><td>Dog        </td><td>304</td><td>[10^{432},10^{471}]  </td><td>6.37 * 10^{70}  </td></tr>\n",
       "\t<tr><td>Pig        </td><td>318</td><td>[10^{463},10^{479}]  </td><td>1.61 * 10^{73}  </td></tr>\n",
       "\t<tr><td>White rhino</td><td>328</td><td>[10^{546},10^{588}]  </td><td>1.36 * 10^{84}  </td></tr>\n",
       "\t<tr><td>Elephant   </td><td>336</td><td>[10^{583},10^{609}]  </td><td>8.56 * 10^{86}  </td></tr>\n",
       "\t<tr><td>Cattle     </td><td>383</td><td>[10^{537},10^{579}]  </td><td>7.39 * 10^{83}  </td></tr>\n",
       "\t<tr><td>Pika       </td><td>385</td><td>[10^{647},10^{710}]  </td><td>2.89 * 10^{98}  </td></tr>\n",
       "\t<tr><td>Goat       </td><td>393</td><td>[10^{548},10^{588}]  </td><td>5.30 * 10^{85}  </td></tr>\n",
       "\t<tr><td>Tenrec     </td><td>407</td><td>[10^{700},10^{778}]  </td><td>1.71 * 10^{105} </td></tr>\n",
       "\t<tr><td>Shrew      </td><td>487</td><td>[10^{876},10^{999}]  </td><td>1.02 * 10^{128} </td></tr>\n",
       "\t<tr><td>Mouse      </td><td>509</td><td>[10^{830},10^{980}]  </td><td>2.44 * 10^{131} </td></tr>\n",
       "\t<tr><td>Manatee    </td><td>519</td><td>[10^{1050},10^{1101}]</td><td>3.12 * 10^{142} </td></tr>\n",
       "\t<tr><td>Guinea pig </td><td>640</td><td>[10^{1130},10^{1360}]</td><td>5.85 * 10^{166} </td></tr>\n",
       "\t<tr><td>Chicken    </td><td>736</td><td>[10^{1217},10^{1550}]</td><td>6.38 * 10^{193} </td></tr>\n",
       "\t<tr><td>Opossum    </td><td>778</td><td>[10^{1295},10^{1590}]</td><td>4.01 * 10^{204} </td></tr>\n",
       "\t<tr><td>Rat        </td><td>788</td><td>[10^{1251},10^{1476}]</td><td>2.30 * 10^{189} </td></tr>\n",
       "</tbody>\n",
       "</table>\n"
      ],
      "text/latex": [
       "A data.frame: 20 × 4\n",
       "\\begin{tabular}{llll}\n",
       " Genome & d & Scenarios & Intermediates\\\\\n",
       " <chr> & <int> & <chr> & <chr>\\\\\n",
       "\\hline\n",
       "\t Chimpanzee  &  27 & 6.54 * 10\\textasciicircum{}\\{11\\}        & 2.46 * 10\\textasciicircum{}\\{4\\}   \\\\\n",
       "\t Orangutan   &  53 & 6.03 * 10\\textasciicircum{}\\{38\\}        & 1.29 * 10\\textasciicircum{}\\{10\\}  \\\\\n",
       "\t Rhesus      & 150 & 1.21 * 10\\textasciicircum{}\\{138\\}       & 1.45 * 10\\textasciicircum{}\\{28\\}  \\\\\n",
       "\t Marmoset    & 204 & 3.99 * 10\\textasciicircum{}\\{250\\}       & 3.13 * 10\\textasciicircum{}\\{43\\}  \\\\\n",
       "\t Horse       & 225 & 1.63 * 10\\textasciicircum{}\\{135\\}       & 1.31 * 10\\textasciicircum{}\\{51\\}  \\\\\n",
       "\t Dog         & 304 & {[}10\\textasciicircum{}\\{432\\},10\\textasciicircum{}\\{471\\}{]}   & 6.37 * 10\\textasciicircum{}\\{70\\}  \\\\\n",
       "\t Pig         & 318 & {[}10\\textasciicircum{}\\{463\\},10\\textasciicircum{}\\{479\\}{]}   & 1.61 * 10\\textasciicircum{}\\{73\\}  \\\\\n",
       "\t White rhino & 328 & {[}10\\textasciicircum{}\\{546\\},10\\textasciicircum{}\\{588\\}{]}   & 1.36 * 10\\textasciicircum{}\\{84\\}  \\\\\n",
       "\t Elephant    & 336 & {[}10\\textasciicircum{}\\{583\\},10\\textasciicircum{}\\{609\\}{]}   & 8.56 * 10\\textasciicircum{}\\{86\\}  \\\\\n",
       "\t Cattle      & 383 & {[}10\\textasciicircum{}\\{537\\},10\\textasciicircum{}\\{579\\}{]}   & 7.39 * 10\\textasciicircum{}\\{83\\}  \\\\\n",
       "\t Pika        & 385 & {[}10\\textasciicircum{}\\{647\\},10\\textasciicircum{}\\{710\\}{]}   & 2.89 * 10\\textasciicircum{}\\{98\\}  \\\\\n",
       "\t Goat        & 393 & {[}10\\textasciicircum{}\\{548\\},10\\textasciicircum{}\\{588\\}{]}   & 5.30 * 10\\textasciicircum{}\\{85\\}  \\\\\n",
       "\t Tenrec      & 407 & {[}10\\textasciicircum{}\\{700\\},10\\textasciicircum{}\\{778\\}{]}   & 1.71 * 10\\textasciicircum{}\\{105\\} \\\\\n",
       "\t Shrew       & 487 & {[}10\\textasciicircum{}\\{876\\},10\\textasciicircum{}\\{999\\}{]}   & 1.02 * 10\\textasciicircum{}\\{128\\} \\\\\n",
       "\t Mouse       & 509 & {[}10\\textasciicircum{}\\{830\\},10\\textasciicircum{}\\{980\\}{]}   & 2.44 * 10\\textasciicircum{}\\{131\\} \\\\\n",
       "\t Manatee     & 519 & {[}10\\textasciicircum{}\\{1050\\},10\\textasciicircum{}\\{1101\\}{]} & 3.12 * 10\\textasciicircum{}\\{142\\} \\\\\n",
       "\t Guinea pig  & 640 & {[}10\\textasciicircum{}\\{1130\\},10\\textasciicircum{}\\{1360\\}{]} & 5.85 * 10\\textasciicircum{}\\{166\\} \\\\\n",
       "\t Chicken     & 736 & {[}10\\textasciicircum{}\\{1217\\},10\\textasciicircum{}\\{1550\\}{]} & 6.38 * 10\\textasciicircum{}\\{193\\} \\\\\n",
       "\t Opossum     & 778 & {[}10\\textasciicircum{}\\{1295\\},10\\textasciicircum{}\\{1590\\}{]} & 4.01 * 10\\textasciicircum{}\\{204\\} \\\\\n",
       "\t Rat         & 788 & {[}10\\textasciicircum{}\\{1251\\},10\\textasciicircum{}\\{1476\\}{]} & 2.30 * 10\\textasciicircum{}\\{189\\} \\\\\n",
       "\\end{tabular}\n"
      ],
      "text/markdown": [
       "\n",
       "A data.frame: 20 × 4\n",
       "\n",
       "| Genome &lt;chr&gt; | d &lt;int&gt; | Scenarios &lt;chr&gt; | Intermediates &lt;chr&gt; |\n",
       "|---|---|---|---|\n",
       "| Chimpanzee  |  27 | 6.54 * 10^{11}        | 2.46 * 10^{4}    |\n",
       "| Orangutan   |  53 | 6.03 * 10^{38}        | 1.29 * 10^{10}   |\n",
       "| Rhesus      | 150 | 1.21 * 10^{138}       | 1.45 * 10^{28}   |\n",
       "| Marmoset    | 204 | 3.99 * 10^{250}       | 3.13 * 10^{43}   |\n",
       "| Horse       | 225 | 1.63 * 10^{135}       | 1.31 * 10^{51}   |\n",
       "| Dog         | 304 | [10^{432},10^{471}]   | 6.37 * 10^{70}   |\n",
       "| Pig         | 318 | [10^{463},10^{479}]   | 1.61 * 10^{73}   |\n",
       "| White rhino | 328 | [10^{546},10^{588}]   | 1.36 * 10^{84}   |\n",
       "| Elephant    | 336 | [10^{583},10^{609}]   | 8.56 * 10^{86}   |\n",
       "| Cattle      | 383 | [10^{537},10^{579}]   | 7.39 * 10^{83}   |\n",
       "| Pika        | 385 | [10^{647},10^{710}]   | 2.89 * 10^{98}   |\n",
       "| Goat        | 393 | [10^{548},10^{588}]   | 5.30 * 10^{85}   |\n",
       "| Tenrec      | 407 | [10^{700},10^{778}]   | 1.71 * 10^{105}  |\n",
       "| Shrew       | 487 | [10^{876},10^{999}]   | 1.02 * 10^{128}  |\n",
       "| Mouse       | 509 | [10^{830},10^{980}]   | 2.44 * 10^{131}  |\n",
       "| Manatee     | 519 | [10^{1050},10^{1101}] | 3.12 * 10^{142}  |\n",
       "| Guinea pig  | 640 | [10^{1130},10^{1360}] | 5.85 * 10^{166}  |\n",
       "| Chicken     | 736 | [10^{1217},10^{1550}] | 6.38 * 10^{193}  |\n",
       "| Opossum     | 778 | [10^{1295},10^{1590}] | 4.01 * 10^{204}  |\n",
       "| Rat         | 788 | [10^{1251},10^{1476}] | 2.30 * 10^{189}  |\n",
       "\n"
      ],
      "text/plain": [
       "   Genome      d   Scenarios             Intermediates   \n",
       "1  Chimpanzee   27 6.54 * 10^{11}        2.46 * 10^{4}   \n",
       "2  Orangutan    53 6.03 * 10^{38}        1.29 * 10^{10}  \n",
       "3  Rhesus      150 1.21 * 10^{138}       1.45 * 10^{28}  \n",
       "4  Marmoset    204 3.99 * 10^{250}       3.13 * 10^{43}  \n",
       "5  Horse       225 1.63 * 10^{135}       1.31 * 10^{51}  \n",
       "6  Dog         304 [10^{432},10^{471}]   6.37 * 10^{70}  \n",
       "7  Pig         318 [10^{463},10^{479}]   1.61 * 10^{73}  \n",
       "8  White rhino 328 [10^{546},10^{588}]   1.36 * 10^{84}  \n",
       "9  Elephant    336 [10^{583},10^{609}]   8.56 * 10^{86}  \n",
       "10 Cattle      383 [10^{537},10^{579}]   7.39 * 10^{83}  \n",
       "11 Pika        385 [10^{647},10^{710}]   2.89 * 10^{98}  \n",
       "12 Goat        393 [10^{548},10^{588}]   5.30 * 10^{85}  \n",
       "13 Tenrec      407 [10^{700},10^{778}]   1.71 * 10^{105} \n",
       "14 Shrew       487 [10^{876},10^{999}]   1.02 * 10^{128} \n",
       "15 Mouse       509 [10^{830},10^{980}]   2.44 * 10^{131} \n",
       "16 Manatee     519 [10^{1050},10^{1101}] 3.12 * 10^{142} \n",
       "17 Guinea pig  640 [10^{1130},10^{1360}] 5.85 * 10^{166} \n",
       "18 Chicken     736 [10^{1217},10^{1550}] 6.38 * 10^{193} \n",
       "19 Opossum     778 [10^{1295},10^{1590}] 4.01 * 10^{204} \n",
       "20 Rat         788 [10^{1251},10^{1476}] 2.30 * 10^{189} "
      ]
     },
     "metadata": {},
     "output_type": "display_data"
    }
   ],
   "source": [
    "data <- read.csv(\"../data/scenarios.csv\", sep = \";\")\n",
    "data"
   ]
  },
  {
   "cell_type": "code",
   "execution_count": 27,
   "id": "26faa5b0-7e1f-45c3-bb4c-13b687173b9f",
   "metadata": {},
   "outputs": [],
   "source": [
    "num_to_log10scale <- function (x) {\n",
    "    parts <- strsplit(x, split = \" \")[[1]]\n",
    "    x <- as.numeric(parts[1])\n",
    "    # assumes that the 2nd factor is 10 to some power\n",
    "    y <- as.numeric(substr(parts[3], 5, nchar(parts[3]) - 1))\n",
    "    log10(x) + y\n",
    "}\n",
    "\n",
    "interval_to_log10scale <- function(x) {\n",
    "    # assumes that x is 10 to some power; the function just extracts the exponent\n",
    "    # exponent must be between { }\n",
    "    extremes <- strsplit(substr(x, 2, nchar(x) - 1), split = \",\")[[1]]\n",
    "    start <- as.numeric(gsub(\"^.*\\\\{(\\\\d+)\\\\}$\", \"\\\\1\", extremes[1]))\n",
    "    end <- as.numeric(gsub(\"^.*\\\\{(\\\\d+)\\\\}$\", \"\\\\1\", extremes[2]))\n",
    "    paste(\"[\", start, \",\", end, \"]\", sep = \"\")\n",
    "}"
   ]
  },
  {
   "cell_type": "code",
   "execution_count": 28,
   "id": "08c9dc94-3161-4974-a870-6c5cf47121d2",
   "metadata": {},
   "outputs": [],
   "source": [
    "data[\"Intermediates\"] <- apply(data[\"Intermediates\"], 1, num_to_log10scale)\n",
    "data[1:5,][\"Scenarios\"] <- apply(data[1:5,][\"Scenarios\"], 1, num_to_log10scale)\n",
    "data[6:nrow(data),][\"Scenarios\"] <- apply(data[6:nrow(data),][\"Scenarios\"], 1, interval_to_log10scale)"
   ]
  },
  {
   "cell_type": "code",
   "execution_count": 29,
   "id": "cf594b59-940b-41f9-975f-73f4408245ae",
   "metadata": {},
   "outputs": [],
   "source": [
    "# Convert the range values in column \"y\" to separate minimum and maximum columns\n",
    "data$scen_min <- as.numeric(gsub(\"\\\\[(\\\\d+),.+\", \"\\\\1\", data$Scenarios))\n",
    "data$scen_max <- as.numeric(gsub(\"\\\\[.+,(\\\\d+)]\", \"\\\\1\", data$Scenarios))"
   ]
  },
  {
   "cell_type": "code",
   "execution_count": 30,
   "id": "f37f0f8a-3de5-486d-a867-0d2c7296c2e0",
   "metadata": {},
   "outputs": [],
   "source": [
    "# sort Genomes by rank distance\n",
    "data$Genome <- factor(data$Genome, levels = data[order(data$d), \"Genome\"])"
   ]
  },
  {
   "cell_type": "code",
   "execution_count": 31,
   "id": "d7854a26-b1ce-42a4-8747-608dbcb5c384",
   "metadata": {},
   "outputs": [],
   "source": [
    "p1 <- ggplot(data, aes(x = Intermediates, y = Genome)) +\n",
    "    geom_point(size = 2) +\n",
    "    labs(x = \"Number of intermediate genomes vs. human genome (log scale)\",\n",
    "         y = \"Genome\")\n",
    "p2 <- ggplot(data, aes(x = d, y = Genome)) +\n",
    "    geom_point(size = 2) +\n",
    "    labs(x = \"Rank distance vs. human genome\",\n",
    "         y = \"Genome\")\n",
    "p3 <- ggplot(data, aes(x = (scen_min + scen_max) / 2, y = Genome)) +\n",
    "    geom_point(size = 2) +\n",
    "    geom_errorbar(aes(xmin = scen_min, xmax = scen_max), width = 0.4) +\n",
    "    labs(x = \"Number of scenarios vs. human genome (log scale)\",\n",
    "         y = \"Genome\")\n",
    "p4 <- plot_grid(p2, p1, p3, nrow = 3, align = \"v\")"
   ]
  },
  {
   "cell_type": "code",
   "execution_count": 32,
   "id": "81457eb7-91e3-47f6-b490-eef964da2141",
   "metadata": {},
   "outputs": [
    {
     "data": {
      "text/html": [
       "<strong>png:</strong> 2"
      ],
      "text/latex": [
       "\\textbf{png:} 2"
      ],
      "text/markdown": [
       "**png:** 2"
      ],
      "text/plain": [
       "png \n",
       "  2 "
      ]
     },
     "metadata": {},
     "output_type": "display_data"
    }
   ],
   "source": [
    "png(\"../data/img/ints_vs_human.png\")\n",
    "print(p1)\n",
    "dev.off()"
   ]
  },
  {
   "cell_type": "code",
   "execution_count": 33,
   "id": "f80110ad-d9da-40e7-a209-1440e39930a1",
   "metadata": {},
   "outputs": [
    {
     "data": {
      "text/html": [
       "<strong>png:</strong> 2"
      ],
      "text/latex": [
       "\\textbf{png:} 2"
      ],
      "text/markdown": [
       "**png:** 2"
      ],
      "text/plain": [
       "png \n",
       "  2 "
      ]
     },
     "metadata": {},
     "output_type": "display_data"
    }
   ],
   "source": [
    "png(\"../data/img/d_vs_human.png\")\n",
    "print(p2)\n",
    "dev.off()"
   ]
  },
  {
   "cell_type": "code",
   "execution_count": 34,
   "id": "953f59cd-f5b8-40dd-b1fb-b265248930cc",
   "metadata": {},
   "outputs": [
    {
     "data": {
      "text/html": [
       "<strong>png:</strong> 2"
      ],
      "text/latex": [
       "\\textbf{png:} 2"
      ],
      "text/markdown": [
       "**png:** 2"
      ],
      "text/plain": [
       "png \n",
       "  2 "
      ]
     },
     "metadata": {},
     "output_type": "display_data"
    }
   ],
   "source": [
    "png(\"../data/img/scen_vs_human.png\")\n",
    "print(p3)\n",
    "dev.off()"
   ]
  },
  {
   "cell_type": "code",
   "execution_count": 41,
   "id": "c86c36ff-4372-417e-b170-b2e3a7d0bfb4",
   "metadata": {},
   "outputs": [
    {
     "data": {
      "text/html": [
       "<strong>png:</strong> 2"
      ],
      "text/latex": [
       "\\textbf{png:} 2"
      ],
      "text/markdown": [
       "**png:** 2"
      ],
      "text/plain": [
       "png \n",
       "  2 "
      ]
     },
     "metadata": {},
     "output_type": "display_data"
    }
   ],
   "source": [
    "png(\"../data/img/plots_merged.png\", units = 'mm', res = 150)\n",
    "print(p4)\n",
    "dev.off()"
   ]
  }
 ],
 "metadata": {
  "kernelspec": {
   "display_name": "R",
   "language": "R",
   "name": "ir"
  },
  "language_info": {
   "codemirror_mode": "r",
   "file_extension": ".r",
   "mimetype": "text/x-r-source",
   "name": "R",
   "pygments_lexer": "r",
   "version": "4.2.2"
  }
 },
 "nbformat": 4,
 "nbformat_minor": 5
}
